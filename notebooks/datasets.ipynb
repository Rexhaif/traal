{
 "cells": [
  {
   "cell_type": "code",
   "execution_count": 1,
   "metadata": {},
   "outputs": [
    {
     "name": "stderr",
     "output_type": "stream",
     "text": [
      "/usr/lib/python3/dist-packages/requests/__init__.py:89: RequestsDependencyWarning: urllib3 (1.26.9) or chardet (3.0.4) doesn't match a supported version!\n",
      "  warnings.warn(\"urllib3 ({}) or chardet ({}) doesn't match a supported \"\n"
     ]
    }
   ],
   "source": [
    "from datasets import load_dataset, Dataset\n",
    "from datasets.filesystems import S3FileSystem\n",
    "import regex\n",
    "import os"
   ]
  },
  {
   "cell_type": "code",
   "execution_count": 10,
   "metadata": {},
   "outputs": [],
   "source": [
    "os.environ['AWS_ACCESS_KEY'] = \"*access_key*\"\n",
    "os.environ['AWS_ACCESS_SECRET'] = \"*access_secret*\""
   ]
  },
  {
   "cell_type": "code",
   "execution_count": 11,
   "metadata": {},
   "outputs": [],
   "source": [
    "s3fs = S3FileSystem(key=os.environ['AWS_ACCESS_KEY'], secret=os.environ['AWS_ACCESS_SECRET'])"
   ]
  },
  {
   "cell_type": "markdown",
   "metadata": {},
   "source": [
    "## WMT-17 EN->RU"
   ]
  },
  {
   "cell_type": "code",
   "execution_count": 2,
   "metadata": {},
   "outputs": [
    {
     "name": "stderr",
     "output_type": "stream",
     "text": [
      "Reusing dataset wmt17 (/root/.cache/huggingface/datasets/wmt17/ru-en/1.0.0/626ef4b4893062acbd74367a303a029b0a61c6a093453dd1e55477155d7b27c2)\n"
     ]
    },
    {
     "data": {
      "application/vnd.jupyter.widget-view+json": {
       "model_id": "ac58295aaf1048aea1f281b7c50d3733",
       "version_major": 2,
       "version_minor": 0
      },
      "text/plain": [
       "  0%|          | 0/3 [00:00<?, ?it/s]"
      ]
     },
     "metadata": {},
     "output_type": "display_data"
    }
   ],
   "source": [
    "wmt = load_dataset(\"wmt17\", \"ru-en\")"
   ]
  },
  {
   "cell_type": "code",
   "execution_count": 3,
   "metadata": {},
   "outputs": [],
   "source": [
    "def unpack(row):\n",
    "    return {\n",
    "        'src': row['translation']['en'],\n",
    "        'tgt': row['translation']['ru']\n",
    "    }"
   ]
  },
  {
   "cell_type": "code",
   "execution_count": 4,
   "metadata": {},
   "outputs": [
    {
     "name": "stdout",
     "output_type": "stream",
     "text": [
      " "
     ]
    },
    {
     "name": "stderr",
     "output_type": "stream",
     "text": [
      "Loading cached processed dataset at /root/.cache/huggingface/datasets/wmt17/ru-en/1.0.0/626ef4b4893062acbd74367a303a029b0a61c6a093453dd1e55477155d7b27c2/cache-ee7a674de5ec1c4c.arrow\n"
     ]
    },
    {
     "name": "stdout",
     "output_type": "stream",
     "text": [
      " "
     ]
    },
    {
     "name": "stderr",
     "output_type": "stream",
     "text": [
      "Loading cached processed dataset at /root/.cache/huggingface/datasets/wmt17/ru-en/1.0.0/626ef4b4893062acbd74367a303a029b0a61c6a093453dd1e55477155d7b27c2/cache-d5cb1fd5f03e54c2.arrow\n"
     ]
    },
    {
     "name": "stdout",
     "output_type": "stream",
     "text": [
      " "
     ]
    },
    {
     "name": "stderr",
     "output_type": "stream",
     "text": [
      "Loading cached processed dataset at /root/.cache/huggingface/datasets/wmt17/ru-en/1.0.0/626ef4b4893062acbd74367a303a029b0a61c6a093453dd1e55477155d7b27c2/cache-0a0949865b27a408.arrow\n"
     ]
    },
    {
     "name": "stdout",
     "output_type": "stream",
     "text": [
      " "
     ]
    },
    {
     "name": "stderr",
     "output_type": "stream",
     "text": [
      "Loading cached processed dataset at /root/.cache/huggingface/datasets/wmt17/ru-en/1.0.0/626ef4b4893062acbd74367a303a029b0a61c6a093453dd1e55477155d7b27c2/cache-596219197abf8c68.arrow\n"
     ]
    },
    {
     "name": "stdout",
     "output_type": "stream",
     "text": [
      " "
     ]
    },
    {
     "name": "stderr",
     "output_type": "stream",
     "text": [
      "Loading cached processed dataset at /root/.cache/huggingface/datasets/wmt17/ru-en/1.0.0/626ef4b4893062acbd74367a303a029b0a61c6a093453dd1e55477155d7b27c2/cache-1bbf6f63dd3cabf0.arrow\n"
     ]
    },
    {
     "name": "stdout",
     "output_type": "stream",
     "text": [
      " "
     ]
    },
    {
     "name": "stderr",
     "output_type": "stream",
     "text": [
      "Loading cached processed dataset at /root/.cache/huggingface/datasets/wmt17/ru-en/1.0.0/626ef4b4893062acbd74367a303a029b0a61c6a093453dd1e55477155d7b27c2/cache-0b2c7b2c12cffe36.arrow\n"
     ]
    },
    {
     "name": "stdout",
     "output_type": "stream",
     "text": [
      " "
     ]
    },
    {
     "name": "stderr",
     "output_type": "stream",
     "text": [
      "Loading cached processed dataset at /root/.cache/huggingface/datasets/wmt17/ru-en/1.0.0/626ef4b4893062acbd74367a303a029b0a61c6a093453dd1e55477155d7b27c2/cache-085c8038783e81a7.arrow\n"
     ]
    },
    {
     "name": "stdout",
     "output_type": "stream",
     "text": [
      " "
     ]
    },
    {
     "name": "stderr",
     "output_type": "stream",
     "text": [
      "Loading cached processed dataset at /root/.cache/huggingface/datasets/wmt17/ru-en/1.0.0/626ef4b4893062acbd74367a303a029b0a61c6a093453dd1e55477155d7b27c2/cache-b5d124ac0dc955ee.arrow\n"
     ]
    },
    {
     "name": "stdout",
     "output_type": "stream",
     "text": [
      " "
     ]
    },
    {
     "name": "stderr",
     "output_type": "stream",
     "text": [
      "Loading cached processed dataset at /root/.cache/huggingface/datasets/wmt17/ru-en/1.0.0/626ef4b4893062acbd74367a303a029b0a61c6a093453dd1e55477155d7b27c2/cache-ef32876f8360f561.arrow\n"
     ]
    },
    {
     "name": "stdout",
     "output_type": "stream",
     "text": [
      " "
     ]
    },
    {
     "name": "stderr",
     "output_type": "stream",
     "text": [
      "Loading cached processed dataset at /root/.cache/huggingface/datasets/wmt17/ru-en/1.0.0/626ef4b4893062acbd74367a303a029b0a61c6a093453dd1e55477155d7b27c2/cache-c1ad0a280f6ee807.arrow\n"
     ]
    },
    {
     "name": "stdout",
     "output_type": "stream",
     "text": [
      " "
     ]
    },
    {
     "name": "stderr",
     "output_type": "stream",
     "text": [
      "Loading cached processed dataset at /root/.cache/huggingface/datasets/wmt17/ru-en/1.0.0/626ef4b4893062acbd74367a303a029b0a61c6a093453dd1e55477155d7b27c2/cache-8df22a6ef99453bd.arrow\n"
     ]
    },
    {
     "name": "stdout",
     "output_type": "stream",
     "text": [
      " "
     ]
    },
    {
     "name": "stderr",
     "output_type": "stream",
     "text": [
      "Loading cached processed dataset at /root/.cache/huggingface/datasets/wmt17/ru-en/1.0.0/626ef4b4893062acbd74367a303a029b0a61c6a093453dd1e55477155d7b27c2/cache-7a0fb00d013f074b.arrow\n"
     ]
    },
    {
     "name": "stdout",
     "output_type": "stream",
     "text": [
      " "
     ]
    },
    {
     "name": "stderr",
     "output_type": "stream",
     "text": [
      "Loading cached processed dataset at /root/.cache/huggingface/datasets/wmt17/ru-en/1.0.0/626ef4b4893062acbd74367a303a029b0a61c6a093453dd1e55477155d7b27c2/cache-9a43b2195c16e586.arrow\n"
     ]
    },
    {
     "name": "stdout",
     "output_type": "stream",
     "text": [
      " "
     ]
    },
    {
     "name": "stderr",
     "output_type": "stream",
     "text": [
      "Loading cached processed dataset at /root/.cache/huggingface/datasets/wmt17/ru-en/1.0.0/626ef4b4893062acbd74367a303a029b0a61c6a093453dd1e55477155d7b27c2/cache-30277d53c2624815.arrow\n"
     ]
    },
    {
     "name": "stdout",
     "output_type": "stream",
     "text": [
      " "
     ]
    },
    {
     "name": "stderr",
     "output_type": "stream",
     "text": [
      "Loading cached processed dataset at /root/.cache/huggingface/datasets/wmt17/ru-en/1.0.0/626ef4b4893062acbd74367a303a029b0a61c6a093453dd1e55477155d7b27c2/cache-135bb805edc271db.arrow\n"
     ]
    }
   ],
   "source": [
    "wmt = wmt.map(unpack, batched=False, num_proc=5, remove_columns=['translation'])"
   ]
  },
  {
   "cell_type": "code",
   "execution_count": 5,
   "metadata": {},
   "outputs": [],
   "source": [
    "def check_language(item):\n",
    "    len_cyrrilic = len(regex.findall(r'\\p{IsCyrillic}', item['tgt']))\n",
    "    return len_cyrrilic >= (len(item['tgt']) // 2)"
   ]
  },
  {
   "cell_type": "code",
   "execution_count": 6,
   "metadata": {},
   "outputs": [
    {
     "name": "stdout",
     "output_type": "stream",
     "text": [
      " "
     ]
    },
    {
     "name": "stderr",
     "output_type": "stream",
     "text": [
      "Loading cached processed dataset at /root/.cache/huggingface/datasets/wmt17/ru-en/1.0.0/626ef4b4893062acbd74367a303a029b0a61c6a093453dd1e55477155d7b27c2/cache-8e156a9da0d323a9_00000_of_00005.arrow\n"
     ]
    },
    {
     "name": "stdout",
     "output_type": "stream",
     "text": [
      " "
     ]
    },
    {
     "name": "stderr",
     "output_type": "stream",
     "text": [
      "Loading cached processed dataset at /root/.cache/huggingface/datasets/wmt17/ru-en/1.0.0/626ef4b4893062acbd74367a303a029b0a61c6a093453dd1e55477155d7b27c2/cache-8e156a9da0d323a9_00001_of_00005.arrow\n"
     ]
    },
    {
     "name": "stdout",
     "output_type": "stream",
     "text": [
      " "
     ]
    },
    {
     "name": "stderr",
     "output_type": "stream",
     "text": [
      "Loading cached processed dataset at /root/.cache/huggingface/datasets/wmt17/ru-en/1.0.0/626ef4b4893062acbd74367a303a029b0a61c6a093453dd1e55477155d7b27c2/cache-8e156a9da0d323a9_00002_of_00005.arrow\n"
     ]
    },
    {
     "name": "stdout",
     "output_type": "stream",
     "text": [
      " "
     ]
    },
    {
     "name": "stderr",
     "output_type": "stream",
     "text": [
      "Loading cached processed dataset at /root/.cache/huggingface/datasets/wmt17/ru-en/1.0.0/626ef4b4893062acbd74367a303a029b0a61c6a093453dd1e55477155d7b27c2/cache-8e156a9da0d323a9_00003_of_00005.arrow\n"
     ]
    },
    {
     "name": "stdout",
     "output_type": "stream",
     "text": [
      " "
     ]
    },
    {
     "name": "stderr",
     "output_type": "stream",
     "text": [
      "Loading cached processed dataset at /root/.cache/huggingface/datasets/wmt17/ru-en/1.0.0/626ef4b4893062acbd74367a303a029b0a61c6a093453dd1e55477155d7b27c2/cache-8e156a9da0d323a9_00004_of_00005.arrow\n"
     ]
    }
   ],
   "source": [
    "wmt['train'] = wmt['train'].filter(check_language, batched=False, num_proc=5)"
   ]
  },
  {
   "cell_type": "code",
   "execution_count": 9,
   "metadata": {},
   "outputs": [
    {
     "data": {
      "application/vnd.jupyter.widget-view+json": {
       "model_id": "e3d4965a707e4e2ca9d50776959ee3b9",
       "version_major": 2,
       "version_minor": 0
      },
      "text/plain": [
       "Flattening the indices:   0%|          | 0/23882 [00:00<?, ?ba/s]"
      ]
     },
     "metadata": {},
     "output_type": "display_data"
    }
   ],
   "source": [
    "wmt.save_to_disk(\"s3://traal-storage/datasets/wmt17-en-ru\", fs=s3fs)"
   ]
  },
  {
   "cell_type": "markdown",
   "metadata": {},
   "source": [
    "## CONLL-2003"
   ]
  },
  {
   "cell_type": "code",
   "execution_count": 2,
   "metadata": {},
   "outputs": [
    {
     "name": "stderr",
     "output_type": "stream",
     "text": [
      "Reusing dataset conll2003 (/root/.cache/huggingface/datasets/conll2003/conll2003/1.0.0/63f4ebd1bcb7148b1644497336fd74643d4ce70123334431a3c053b7ee4e96ee)\n"
     ]
    },
    {
     "data": {
      "application/vnd.jupyter.widget-view+json": {
       "model_id": "b8802cb0ad464ee0a2d20d58230638cc",
       "version_major": 2,
       "version_minor": 0
      },
      "text/plain": [
       "  0%|          | 0/3 [00:00<?, ?it/s]"
      ]
     },
     "metadata": {},
     "output_type": "display_data"
    }
   ],
   "source": [
    "dataset = load_dataset(\"conll2003\")"
   ]
  },
  {
   "cell_type": "code",
   "execution_count": 3,
   "metadata": {},
   "outputs": [],
   "source": [
    "dataset = dataset.remove_columns(['id', 'pos_tags', 'chunk_tags'])"
   ]
  },
  {
   "cell_type": "code",
   "execution_count": 6,
   "metadata": {},
   "outputs": [],
   "source": [
    "mapping = {'O': 0, 'B-PER': 1, 'I-PER': 2, 'B-ORG': 3, 'I-ORG': 4, 'B-LOC': 5, 'I-LOC': 6, 'B-MISC': 7, 'I-MISC': 8}\n",
    "mapping = {v:k for k,v in mapping.items()}\n",
    "def map_ner_tags(item):\n",
    "    return {\n",
    "        'ner': [mapping[i] for i in item['ner_tags']],\n",
    "    }"
   ]
  },
  {
   "cell_type": "code",
   "execution_count": 7,
   "metadata": {},
   "outputs": [
    {
     "data": {
      "application/vnd.jupyter.widget-view+json": {
       "model_id": "75c83e85a17040da9284cc1587d5abd2",
       "version_major": 2,
       "version_minor": 0
      },
      "text/plain": [
       "  0%|          | 0/14042 [00:00<?, ?ex/s]"
      ]
     },
     "metadata": {},
     "output_type": "display_data"
    },
    {
     "data": {
      "application/vnd.jupyter.widget-view+json": {
       "model_id": "b05f3e7e44a640889ed3ab3c75cb5fe8",
       "version_major": 2,
       "version_minor": 0
      },
      "text/plain": [
       "  0%|          | 0/3251 [00:00<?, ?ex/s]"
      ]
     },
     "metadata": {},
     "output_type": "display_data"
    },
    {
     "data": {
      "application/vnd.jupyter.widget-view+json": {
       "model_id": "04c8aee26cb340afbdc3eb92bd1b3c73",
       "version_major": 2,
       "version_minor": 0
      },
      "text/plain": [
       "  0%|          | 0/3454 [00:00<?, ?ex/s]"
      ]
     },
     "metadata": {},
     "output_type": "display_data"
    }
   ],
   "source": [
    "dataset = dataset.map(map_ner_tags, batched=False, remove_columns=['ner_tags'])"
   ]
  },
  {
   "cell_type": "code",
   "execution_count": 13,
   "metadata": {},
   "outputs": [],
   "source": [
    "dataset.save_to_disk(\"s3://traal-storage/datasets/conll2003\", fs=s3fs)"
   ]
  },
  {
   "cell_type": "code",
   "execution_count": null,
   "metadata": {},
   "outputs": [],
   "source": []
  }
 ],
 "metadata": {
  "kernelspec": {
   "display_name": "Python 3 (ipykernel)",
   "language": "python",
   "name": "python3"
  },
  "language_info": {
   "codemirror_mode": {
    "name": "ipython",
    "version": 3
   },
   "file_extension": ".py",
   "mimetype": "text/x-python",
   "name": "python",
   "nbconvert_exporter": "python",
   "pygments_lexer": "ipython3",
   "version": "3.8.10"
  },
  "orig_nbformat": 4
 },
 "nbformat": 4,
 "nbformat_minor": 2
}
